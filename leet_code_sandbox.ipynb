{
 "cells": [
  {
   "cell_type": "code",
   "execution_count": 2,
   "metadata": {},
   "outputs": [
    {
     "name": "stdout",
     "output_type": "stream",
     "text": [
      "Hello World!\n"
     ]
    }
   ],
   "source": [
    "print('Hello World!')\n",
    "my_variable = 'Hello World!'\n",
    "print(my_variable)"
   ]
  },
  {
   "cell_type": "code",
   "execution_count": null,
   "metadata": {
    "tags": []
   },
   "outputs": [],
   "source": [
    "# This is a comment, it starts with the pound key\n",
    "\n",
    "# this is a int varible\n",
    "int_variable = 5\n",
    "\n",
    "# this is a float variable\n",
    "\n",
    "float_variable = 5.3\n",
    "\n",
    "\n",
    "# this is a string variable\n",
    "string_variable = 'something_something_something'\n",
    "\n",
    "\n"
   ]
  },
  {
   "cell_type": "code",
   "execution_count": 4,
   "metadata": {
    "tags": []
   },
   "outputs": [
    {
     "data": {
      "text/plain": [
       "[1, 1, 1, 1, 1, 1, 1, 1, 1, 1, 1, 1]"
      ]
     },
     "execution_count": 4,
     "metadata": {},
     "output_type": "execute_result"
    }
   ],
   "source": [
    "[1, 4, 6] * 3\n",
    "\n",
    "[1] * 12"
   ]
  },
  {
   "cell_type": "code",
   "execution_count": 108,
   "metadata": {
    "tags": []
   },
   "outputs": [
    {
     "name": "stdout",
     "output_type": "stream",
     "text": [
      "-1\n",
      "-2\n",
      "-3\n",
      "-4\n",
      "-5\n",
      "-6\n",
      "-7\n",
      "-8\n",
      "-9\n",
      "-10\n",
      "-11\n",
      "-12\n"
     ]
    },
    {
     "data": {
      "text/plain": [
       "6"
      ]
     },
     "execution_count": 108,
     "metadata": {},
     "output_type": "execute_result"
    }
   ],
   "source": [
    "class Solution:\n",
    "    def trap(self, height: List[int]) -> int:\n",
    "        \n",
    "        max_l = [0]\n",
    "        max_r = [0]\n",
    "\n",
    "        max_h = 0\n",
    "        for h in height:\n",
    "            if h > max_h:\n",
    "                max_l.append(h)\n",
    "                max_h = h\n",
    "            else:\n",
    "                max_l.append(max_h)\n",
    "\n",
    "        max_h = 0\n",
    "        for h in reversed(height):\n",
    "            if h > max_h:\n",
    "                max_r.append(h)\n",
    "                max_h = h\n",
    "            else:\n",
    "                max_r.append(max_h)\n",
    "\n",
    "        sum_v = 0\n",
    "        for i, h in enumerate(height):\n",
    "            ir = -1 + -i\n",
    "            l = max_l[i]\n",
    "            r = max_r[ir]\n",
    "            print(ir)\n",
    "\n",
    "            border = min((l, r)) \n",
    "            diff = border - h\n",
    "            if diff > 0:\n",
    "                sum_v += diff\n",
    "\n",
    "        return sum_v\n",
    "\n",
    "\n",
    "s = Solution()\n",
    "\n",
    "height = [0,1,0,2,1,0,1,3,2,1,2,1]\n",
    "\n",
    "s.trap(height)"
   ]
  },
  {
   "cell_type": "code",
   "execution_count": null,
   "metadata": {},
   "outputs": [],
   "source": []
  },
  {
   "cell_type": "code",
   "execution_count": 41,
   "metadata": {},
   "outputs": [
    {
     "name": "stdout",
     "output_type": "stream",
     "text": [
      "2\n",
      "-2\n",
      "-3\n"
     ]
    },
    {
     "data": {
      "text/plain": [
       "[1, 12, 8, 6]"
      ]
     },
     "execution_count": 41,
     "metadata": {},
     "output_type": "execute_result"
    }
   ],
   "source": [
    "from typing import List\n",
    "nums = list(range(1,5))\n",
    "\n",
    "\n",
    "class Solution:\n",
    "    def productExceptSelf(self, nums: List[int]) -> List[int]:\n",
    "        fin = [1]\n",
    "        prefix = 1\n",
    "        for j, v in enumerate(nums[:-1]):\n",
    "            prefix *= v\n",
    "            fin.append(prefix)\n",
    "        postfix = 1\n",
    "        for i, v in zip(range(-2, -j-2, -1), reversed(nums[1:])):\n",
    "            postfix *= v\n",
    "            fin[i] *= postfix\n",
    "            print(i)\n",
    "            \n",
    "        return fin \n",
    "    \n",
    "s = Solution()\n",
    "\n",
    "s.productExceptSelf(nums)"
   ]
  },
  {
   "cell_type": "code",
   "execution_count": 70,
   "metadata": {},
   "outputs": [
    {
     "name": "stdout",
     "output_type": "stream",
     "text": [
      "1 1\n",
      "2 1\n",
      "3 1\n",
      "4 2\n",
      "5 2\n",
      "6 2\n",
      "7 3\n",
      "8 3\n",
      "9 3\n"
     ]
    }
   ],
   "source": [
    "for x in range(1, 10):\n",
    "    xx =  x / 3 + .7\n",
    "    xx = int(xx)\n",
    "    print(x, xx)"
   ]
  },
  {
   "cell_type": "code",
   "execution_count": 48,
   "metadata": {},
   "outputs": [
    {
     "name": "stdout",
     "output_type": "stream",
     "text": [
      "0\n",
      "(True, False)\n",
      "0\n",
      "(True, False)\n",
      "0\n",
      "(True, False)\n"
     ]
    },
    {
     "data": {
      "text/plain": [
       "['Fizz', 'Fizz', 'Fizz']"
      ]
     },
     "execution_count": 48,
     "metadata": {},
     "output_type": "execute_result"
    }
   ],
   "source": [
    "class Solution:\n",
    "    def fizzBuzz(self, n: int) -> List[str]:\n",
    "        res = {(True, False): 'Fizz',\n",
    "                (False, True): 'Buzz',\n",
    "                (True, True): 'FizzBuzz'}\n",
    "        fin  = []\n",
    "        for i in range(n):\n",
    "            f = False\n",
    "            b = False\n",
    "            if i % 3 == 0:\n",
    "                f = True\n",
    "                print(n%3)\n",
    "            if i % 5 == 0:\n",
    "                b = True\n",
    "\n",
    "            k = (f, b)\n",
    "            if k in res:\n",
    "                print(k)\n",
    "                fin.append(res[k])\n",
    "            else:\n",
    "                fin.append(str(i))\n",
    "\n",
    "        return fin\n",
    "    \n",
    "s = Solution()\n",
    "s.fizzBuzz(3)"
   ]
  },
  {
   "cell_type": "code",
   "execution_count": 85,
   "metadata": {},
   "outputs": [
    {
     "name": "stdout",
     "output_type": "stream",
     "text": [
      "3 1\n",
      "1 2\n",
      "1 2\n",
      "2 2\n",
      "3 2\n",
      "1 2\n",
      "3 2\n",
      "2 3\n",
      "2 3\n",
      "2 3\n",
      "2 3\n",
      "3 3\n"
     ]
    },
    {
     "data": {
      "text/plain": [
       "(True,\n",
       " {(3, 1): '5',\n",
       "  (1, 2): '7',\n",
       "  (2, 2): '2',\n",
       "  (3, 2): '3',\n",
       "  (2, 3): '5',\n",
       "  (3, 3): '2'})"
      ]
     },
     "execution_count": 85,
     "metadata": {},
     "output_type": "execute_result"
    }
   ],
   "source": [
    "class Solution:\n",
    "    def isValidSudoku(self, board: List[List[str]]) -> bool:\n",
    "        rows = {}\n",
    "        columns = {}\n",
    "        boxes = {}\n",
    "        for y, rowar in enumerate(board, 1):\n",
    "            boxy = int(y / 3 + .7)\n",
    "            rows[y] = {}\n",
    "            for x, v2 in enumerate(rowar, 1):\n",
    "                if v2 == '.':\n",
    "                    continue\n",
    "                boxx = int(x / 3 + .7)\n",
    "                print(boxx, boxy)\n",
    "                b_in = (boxx, boxy)\n",
    "                if v2 in rows[y]:\n",
    "                    return False\n",
    "                else:\n",
    "                    rows[y][v2] = None\n",
    "                if x not in columns:\n",
    "                    columns[x] = {}\n",
    "                if v2 in columns[x]:\n",
    "                    return False\n",
    "                else:\n",
    "                    columns[x][v2] = None\n",
    "                if b_in not in boxes:\n",
    "                    boxes[b_in] = {}\n",
    "                if v2 in boxes[b_in]:\n",
    "                    return False\n",
    "                else:\n",
    "                    boxes[b_in][ = v2\n",
    "\n",
    "        return True, boxes\n",
    "    \n",
    "s = Solution()\n",
    "\n",
    "board = [[\"5\",\"3\",\".\",\".\",\"7\",\".\",\".\",\".\",\".\"],[\"6\",\".\",\".\",\"1\",\"9\",\"5\",\".\",\".\",\".\"],[\".\",\"9\",\"8\",\".\",\".\",\".\",\".\",\"6\",\".\"],[\"8\",\".\",\".\",\".\",\"6\",\".\",\".\",\".\",\"3\"],[\"4\",\".\",\".\",\"8\",\".\",\"3\",\".\",\".\",\"1\"],[\"7\",\".\",\".\",\".\",\"2\",\".\",\".\",\".\",\"6\"],[\".\",\"6\",\".\",\".\",\".\",\".\",\"2\",\"8\",\".\"],[\".\",\".\",\".\",\"4\",\"1\",\"9\",\".\",\".\",\"5\"],[\".\",\".\",\".\",\".\",\"8\",\".\",\".\",\"7\",\"9\"]]\n",
    "board = [[\".\",\".\",\".\",\".\",\".\",\".\",\"5\",\".\",\".\"],[\".\",\".\",\".\",\".\",\".\",\".\",\".\",\".\",\".\"],[\".\",\".\",\".\",\".\",\".\",\".\",\".\",\".\",\".\"],[\"9\",\"3\",\".\",\".\",\"2\",\".\",\"4\",\".\",\".\"],[\".\",\".\",\"7\",\".\",\".\",\".\",\"3\",\".\",\".\"],[\".\",\".\",\".\",\".\",\".\",\".\",\".\",\".\",\".\"],[\".\",\".\",\".\",\"3\",\"4\",\".\",\".\",\".\",\".\"],[\".\",\".\",\".\",\".\",\".\",\"3\",\".\",\".\",\".\"],[\".\",\".\",\".\",\".\",\".\",\"5\",\"2\",\".\",\".\"]]\n",
    "\n",
    "s.isValidSudoku(board)\n"
   ]
  },
  {
   "cell_type": "code",
   "execution_count": 84,
   "metadata": {},
   "outputs": [
    {
     "data": {
      "text/plain": [
       "<AxesSubplot:>"
      ]
     },
     "execution_count": 84,
     "metadata": {},
     "output_type": "execute_result"
    },
    {
     "data": {
      "image/png": "[encoded data removed]",
      "text/plain": [
       "<Figure size 432x288 with 2 Axes>"
      ]
     },
     "metadata": {
      "needs_background": "light"
     },
     "output_type": "display_data"
    }
   ],
   "source": [
    "import seaborn as sns\n",
    "import numpy as np\n",
    "import pandas as pd\n",
    "\n",
    "bdf = pd.DataFrame(board)\n",
    "bdf = bdf.replace('.', np.NaN)\n",
    "bdf = bdf.astype(float)\n",
    "\n",
    "sns.heatmap(bdf, annot=True)"
   ]
  },
  {
   "cell_type": "code",
   "execution_count": 82,
   "metadata": {},
   "outputs": [
    {
     "data": {
      "text/html": [
       "<div>\n",
       "<style scoped>\n",
       "    .dataframe tbody tr th:only-of-type {\n",
       "        vertical-align: middle;\n",
       "    }\n",
       "\n",
       "    .dataframe tbody tr th {\n",
       "        vertical-align: top;\n",
       "    }\n",
       "\n",
       "    .dataframe thead th {\n",
       "        text-align: right;\n",
       "    }\n",
       "</style>\n",
       "<table border=\"1\" class=\"dataframe\">\n",
       "  <thead>\n",
       "    <tr style=\"text-align: right;\">\n",
       "      <th></th>\n",
       "      <th>0</th>\n",
       "      <th>1</th>\n",
       "      <th>2</th>\n",
       "      <th>3</th>\n",
       "      <th>4</th>\n",
       "      <th>5</th>\n",
       "      <th>6</th>\n",
       "      <th>7</th>\n",
       "      <th>8</th>\n",
       "    </tr>\n",
       "  </thead>\n",
       "  <tbody>\n",
       "    <tr>\n",
       "      <th>0</th>\n",
       "      <td>NaN</td>\n",
       "      <td>NaN</td>\n",
       "      <td>NaN</td>\n",
       "      <td>NaN</td>\n",
       "      <td>NaN</td>\n",
       "      <td>NaN</td>\n",
       "      <td>5</td>\n",
       "      <td>NaN</td>\n",
       "      <td>NaN</td>\n",
       "    </tr>\n",
       "    <tr>\n",
       "      <th>1</th>\n",
       "      <td>NaN</td>\n",
       "      <td>NaN</td>\n",
       "      <td>NaN</td>\n",
       "      <td>NaN</td>\n",
       "      <td>NaN</td>\n",
       "      <td>NaN</td>\n",
       "      <td>NaN</td>\n",
       "      <td>NaN</td>\n",
       "      <td>NaN</td>\n",
       "    </tr>\n",
       "    <tr>\n",
       "      <th>2</th>\n",
       "      <td>NaN</td>\n",
       "      <td>NaN</td>\n",
       "      <td>NaN</td>\n",
       "      <td>NaN</td>\n",
       "      <td>NaN</td>\n",
       "      <td>NaN</td>\n",
       "      <td>NaN</td>\n",
       "      <td>NaN</td>\n",
       "      <td>NaN</td>\n",
       "    </tr>\n",
       "    <tr>\n",
       "      <th>3</th>\n",
       "      <td>9</td>\n",
       "      <td>3</td>\n",
       "      <td>NaN</td>\n",
       "      <td>NaN</td>\n",
       "      <td>2</td>\n",
       "      <td>NaN</td>\n",
       "      <td>4</td>\n",
       "      <td>NaN</td>\n",
       "      <td>NaN</td>\n",
       "    </tr>\n",
       "    <tr>\n",
       "      <th>4</th>\n",
       "      <td>NaN</td>\n",
       "      <td>NaN</td>\n",
       "      <td>7</td>\n",
       "      <td>NaN</td>\n",
       "      <td>NaN</td>\n",
       "      <td>NaN</td>\n",
       "      <td>3</td>\n",
       "      <td>NaN</td>\n",
       "      <td>NaN</td>\n",
       "    </tr>\n",
       "    <tr>\n",
       "      <th>5</th>\n",
       "      <td>NaN</td>\n",
       "      <td>NaN</td>\n",
       "      <td>NaN</td>\n",
       "      <td>NaN</td>\n",
       "      <td>NaN</td>\n",
       "      <td>NaN</td>\n",
       "      <td>NaN</td>\n",
       "      <td>NaN</td>\n",
       "      <td>NaN</td>\n",
       "    </tr>\n",
       "    <tr>\n",
       "      <th>6</th>\n",
       "      <td>NaN</td>\n",
       "      <td>NaN</td>\n",
       "      <td>NaN</td>\n",
       "      <td>3</td>\n",
       "      <td>4</td>\n",
       "      <td>NaN</td>\n",
       "      <td>NaN</td>\n",
       "      <td>NaN</td>\n",
       "      <td>NaN</td>\n",
       "    </tr>\n",
       "    <tr>\n",
       "      <th>7</th>\n",
       "      <td>NaN</td>\n",
       "      <td>NaN</td>\n",
       "      <td>NaN</td>\n",
       "      <td>NaN</td>\n",
       "      <td>NaN</td>\n",
       "      <td>3</td>\n",
       "      <td>NaN</td>\n",
       "      <td>NaN</td>\n",
       "      <td>NaN</td>\n",
       "    </tr>\n",
       "    <tr>\n",
       "      <th>8</th>\n",
       "      <td>NaN</td>\n",
       "      <td>NaN</td>\n",
       "      <td>NaN</td>\n",
       "      <td>NaN</td>\n",
       "      <td>NaN</td>\n",
       "      <td>5</td>\n",
       "      <td>2</td>\n",
       "      <td>NaN</td>\n",
       "      <td>NaN</td>\n",
       "    </tr>\n",
       "  </tbody>\n",
       "</table>\n",
       "</div>"
      ],
      "text/plain": [
       "     0    1    2    3    4    5    6   7   8\n",
       "0  NaN  NaN  NaN  NaN  NaN  NaN    5 NaN NaN\n",
       "1  NaN  NaN  NaN  NaN  NaN  NaN  NaN NaN NaN\n",
       "2  NaN  NaN  NaN  NaN  NaN  NaN  NaN NaN NaN\n",
       "3    9    3  NaN  NaN    2  NaN    4 NaN NaN\n",
       "4  NaN  NaN    7  NaN  NaN  NaN    3 NaN NaN\n",
       "5  NaN  NaN  NaN  NaN  NaN  NaN  NaN NaN NaN\n",
       "6  NaN  NaN  NaN    3    4  NaN  NaN NaN NaN\n",
       "7  NaN  NaN  NaN  NaN  NaN    3  NaN NaN NaN\n",
       "8  NaN  NaN  NaN  NaN  NaN    5    2 NaN NaN"
      ]
     },
     "execution_count": 82,
     "metadata": {},
     "output_type": "execute_result"
    }
   ],
   "source": [
    "bdf = pd.DataFrame(board)\n",
    "bdf = bdf.replace('.', np.NaN)\n",
    "bdf"
   ]
  },
  {
   "cell_type": "code",
   "execution_count": 88,
   "metadata": {},
   "outputs": [
    {
     "name": "stdout",
     "output_type": "stream",
     "text": [
      "aoeu\n",
      "aoeu\n",
      "aoeu\n"
     ]
    },
    {
     "data": {
      "text/plain": [
       "1"
      ]
     },
     "execution_count": 88,
     "metadata": {},
     "output_type": "execute_result"
    }
   ],
   "source": [
    "class Solution:\n",
    "    def longestConsecutive(self, nums: List[int]) -> int:\n",
    "        nums = sorted(nums)\n",
    "        longest = 1\n",
    "        last_node = nums[0]\n",
    "        current_run = 1\n",
    "        for i in nums[1:]:\n",
    "            if last_node == i - 1:\n",
    "                current_run += 1\n",
    "                if current_run > longest:\n",
    "                    longest = current_run\n",
    "            else:\n",
    "                current_run = 1\n",
    "            last_node = i\n",
    "        \n",
    "        return longest\n",
    "    \n",
    "s = Solution()\n",
    "\n",
    "nums = [100,4,200,1,3,2]\n",
    "\n",
    "s.longestConsecutive(nums)"
   ]
  },
  {
   "cell_type": "code",
   "execution_count": 89,
   "metadata": {},
   "outputs": [
    {
     "name": "stdout",
     "output_type": "stream",
     "text": [
      "True\n",
      "True\n",
      "True\n",
      "False\n",
      "True\n",
      "True\n",
      "True\n",
      "True\n",
      "True\n",
      "True\n",
      "True\n",
      "True\n",
      "False\n",
      "True\n",
      "True\n",
      "True\n",
      "False\n",
      "False\n",
      "False\n"
     ]
    }
   ],
   "source": [
    "a = 'rcn-zzvqwmjx;qqr;//34'\n",
    "for s in a:\n",
    "    t = s.isalnum()\n",
    "    print(t)"
   ]
  },
  {
   "cell_type": "code",
   "execution_count": 103,
   "metadata": {},
   "outputs": [
    {
     "data": {
      "text/plain": [
       "[(-1, 0, 1), (-1, -1, 2)]"
      ]
     },
     "execution_count": 103,
     "metadata": {},
     "output_type": "execute_result"
    }
   ],
   "source": [
    "class Solution:\n",
    "    def threeSum(self, nums: List[int]) -> List[List[int]]:\n",
    "        pool = {}\n",
    "        valid = {}\n",
    "        val = []\n",
    "        for i in nums:\n",
    "            for p in pool:\n",
    "                t = 0 - (i + p)\n",
    "                if t in pool:\n",
    "                    if pool[t] < 2 and (t == p or t == i):\n",
    "                        continue\n",
    "                    se = tuple(sorted((i, t, p)))\n",
    "                    if se not in valid:\n",
    "                        val.append(se)\n",
    "                        valid[se] = None\n",
    "            if i in pool:\n",
    "                pool[i] += 1\n",
    "            else:\n",
    "                pool[i] = 1\n",
    "        \n",
    "        return val\n",
    "    \n",
    "s = Solution()\n",
    "\n",
    "nums = [-1,0,1,2,-1,-4]\n",
    "\n",
    "i = s.threeSum(nums)\n",
    "\n",
    "i"
   ]
  },
  {
   "cell_type": "code",
   "execution_count": null,
   "metadata": {},
   "outputs": [],
   "source": [
    "class Solution:\n",
    "    def maxArea(self, height: List[int]) -> int:\n",
    "\n",
    "        l, r = 0, len(height) - 1\n",
    "        max_area = 0\n",
    "        l1, r1 = l, r\n",
    "\n",
    "        while l < r:\n",
    "            minh_l = min((height[l], height[r1]))\n",
    "            wl = r1 - l\n",
    "            al = minh_l * wl\n",
    "\n",
    "            if al > max_area:\n",
    "                l1 = l\n",
    "                max_area = al\n",
    "\n",
    "            minh_r = min((height[l1], height[r]))\n",
    "            wr = r - l1\n",
    "            ar = minh_r * wr      \n",
    "            if ar > max_area:\n",
    "                r1 = r\n",
    "                max_area = ar\n",
    "\n",
    "            l += 1\n",
    "            r -= 1\n",
    "\n",
    "        return max_area\n",
    "\n",
    "s = Solution()\n",
    "\n",
    "s.maxArea(height)"
   ]
  },
  {
   "cell_type": "code",
   "execution_count": 22,
   "metadata": {},
   "outputs": [
    {
     "data": {
      "text/plain": [
       "6"
      ]
     },
     "execution_count": 22,
     "metadata": {},
     "output_type": "execute_result"
    }
   ],
   "source": [
    "exec(\"a = (2 + 4)\")\n",
    "a"
   ]
  },
  {
   "cell_type": "code",
   "execution_count": 24,
   "metadata": {},
   "outputs": [
    {
     "data": {
      "text/plain": [
       "[0, 8, 9, 10, 44, 95]"
      ]
     },
     "execution_count": 24,
     "metadata": {},
     "output_type": "execute_result"
    }
   ],
   "source": [
    "b = [0, 8, 9, 10, 44, 1, 94]\n",
    "\n",
    "b[-2:] = [sum(b[-2:])]\n",
    "\n",
    "b"
   ]
  },
  {
   "cell_type": "code",
   "execution_count": 29,
   "metadata": {},
   "outputs": [
    {
     "data": {
      "text/plain": [
       "[22]"
      ]
     },
     "execution_count": 29,
     "metadata": {},
     "output_type": "execute_result"
    }
   ],
   "source": [
    "tokens = [\"10\",\"6\",\"9\",\"3\",\"+\",\"-11\",\"*\",\"/\",\"*\",\"17\",\"+\",\"5\",\"+\"]\n",
    "\n",
    "acc = {'+':None, '-':None, '*':None, '/':None}\n",
    "int_stack = []\n",
    "for i in tokens:\n",
    "    if i in acc:\n",
    "        tstr = f\"{int_stack[-2]}{i}{int_stack[-1]}\"\n",
    "        val = int(eval(tstr))\n",
    "        int_stack[-2:] = [val]\n",
    "    else:\n",
    "        int_stack.append(i)\n",
    "        \n",
    "int_stack     \n"
   ]
  },
  {
   "cell_type": "code",
   "execution_count": 36,
   "metadata": {},
   "outputs": [
    {
     "name": "stdout",
     "output_type": "stream",
     "text": [
      "<class 'tuple'>\n"
     ]
    },
    {
     "data": {
      "text/plain": [
       "[1, 1, 4, 2, 1, 1, 0, 0]"
      ]
     },
     "execution_count": 36,
     "metadata": {},
     "output_type": "execute_result"
    }
   ],
   "source": [
    "def dailyTemperatures(temperatures):\n",
    "    out = [0] * len(temperatures)\n",
    "    stack = []\n",
    "\n",
    "    def backtrack(i, t):\n",
    "        if stack:\n",
    "            top_i, top_t = stack[-1]\n",
    "        else:\n",
    "            stack.append((i, t))\n",
    "            return\n",
    "        if t > top_t:\n",
    "            diff = i - top_i\n",
    "            out[top_i] = diff\n",
    "            stack.pop()\n",
    "            backtrack(i, t)\n",
    "        else:\n",
    "            stack.append((i, t))\n",
    "\n",
    "    for i, t in enumerate(temperatures):\n",
    "        if not stack:\n",
    "            stack.append((i, t))\n",
    "        else:\n",
    "            backtrack(i, t)\n",
    "            \n",
    "    return out\n",
    "\n",
    "temperatures = [73,74,75,71,69,72,76,73]\n",
    "dailyTemperatures(temperatures)\n",
    "\n"
   ]
  },
  {
   "cell_type": "code",
   "execution_count": 40,
   "metadata": {},
   "outputs": [
    {
     "name": "stdout",
     "output_type": "stream",
     "text": [
      "30\n",
      "25\n",
      "25\n",
      "25\n",
      "29\n",
      "26\n",
      "23\n"
     ]
    },
    {
     "data": {
      "text/plain": [
       "8"
      ]
     },
     "execution_count": 40,
     "metadata": {},
     "output_type": "execute_result"
    }
   ],
   "source": [
    "from typing import List\n",
    "\n",
    "target =21\n",
    "position =[1,15,6,8,18,14,16,2,19,17,3,20,5]\n",
    "speed =[8,5,5,7,10,10,7,9,3,4,4,10,2]\n",
    "\n",
    "\n",
    "class Solution:\n",
    "    def carFleet(self, target: int, position: List[int], speed: List[int]) -> int:\n",
    "        fleets = []\n",
    "        for p, s in zip(position, speed):\n",
    "            fleets.append([p, s])\n",
    "        fleets = sorted(fleets, key=lambda x: x[0], reverse=True)\n",
    "        \n",
    "        def retrack(fleets, complete):\n",
    "            tfleet = []\n",
    "            for f in fleets:\n",
    "                f[0] = f[0] + f[1]\n",
    "                fp, fs = f\n",
    "                if tfleet:\n",
    "                    lfp, lfs = tfleet[-1]\n",
    "                    if fp >= lfp and lfp <= target:\n",
    "                        continue\n",
    "                    elif fp > target:\n",
    "                        complete += 1\n",
    "                    else:\n",
    "                        tfleet.append(f)\n",
    "                else:\n",
    "                    if fp > target :\n",
    "                        print(fp)\n",
    "                        complete += 1\n",
    "                    else:\n",
    "                        tfleet.append(f)\n",
    "            return tfleet, complete\n",
    "                   \n",
    "        complete = 0\n",
    "        while fleets:\n",
    "            fleets, complete = retrack(fleets, complete) \n",
    "            \n",
    "        return complete\n",
    "\n",
    "s = Solution()\n",
    "s.carFleet(target, position, speed)\n",
    "\n"
   ]
  },
  {
   "cell_type": "code",
   "execution_count": 45,
   "metadata": {},
   "outputs": [
    {
     "data": {
      "text/plain": [
       "1"
      ]
     },
     "execution_count": 45,
     "metadata": {},
     "output_type": "execute_result"
    }
   ],
   "source": [
    "from typing import List\n",
    "\n",
    "target = 21\n",
    "position =[1,15,6,8,18,14,16,2,19,17,3,20,5]\n",
    "speed =[8,5,5,7,10,10,7,9,3,4,4,10,2]\n",
    "\n",
    "\n",
    "class Solution:\n",
    "    def carFleet(self, target: int, position: List[int], speed: List[int]) -> int:\n",
    "        pairs = []\n",
    "        for p, s in zip(position, speed):\n",
    "            pairs.append([p, s])\n",
    "        stack = []\n",
    "        for p, s in reversed(sorted(pairs)):\n",
    "            time = (target - p) / s\n",
    "            stack.append(time)\n",
    "            if len(stack) >= 2 and stack[-1] <= stack[-2]:\n",
    "                stack.pop()\n",
    "            \n",
    "        return len(stack)\n",
    "        \n",
    "\n",
    "s = Solution()\n",
    "s.carFleet(target, position, speed)\n",
    "\n"
   ]
  },
  {
   "cell_type": "code",
   "execution_count": 16,
   "metadata": {},
   "outputs": [
    {
     "name": "stdout",
     "output_type": "stream",
     "text": [
      "[1, 3, 5, 7]\n"
     ]
    },
    {
     "data": {
      "text/plain": [
       "True"
      ]
     },
     "execution_count": 16,
     "metadata": {},
     "output_type": "execute_result"
    }
   ],
   "source": [
    "class Solution:\n",
    "    def searchMatrix(self, matrix: List[List[int]], target: int) -> bool:\n",
    "        def bsearch(nums, target):\n",
    "            nlen = len(nums)\n",
    "            ub = nlen\n",
    "            lb = 0\n",
    "\n",
    "            mid = int(nlen / 2)\n",
    "            mid_v = nums[mid]\n",
    "\n",
    "            while True:\n",
    "                if target < mid_v:\n",
    "                    ub = mid\n",
    "                elif target > mid_v:\n",
    "                    lb = mid\n",
    "                \n",
    "                diff = int((ub - lb))\n",
    "                mid = int(diff / 2) + lb\n",
    "\n",
    "                mid_v = nums[mid]\n",
    "                if mid_v == target:\n",
    "                    return True\n",
    "                elif diff <= 1:\n",
    "                    return False\n",
    "       \n",
    "        mlen = len(matrix)\n",
    "        m_mid_i = int(mlen / 2)\n",
    "        ub = mlen\n",
    "        lb = 0\n",
    "\n",
    "        lasti = None\n",
    "\n",
    "        while True:\n",
    "            row = matrix[m_mid_i]\n",
    "            \n",
    "            if target < row[0]:\n",
    "                ub = m_mid_i\n",
    "                diff = int((ub - lb) / 2)\n",
    "                lasti = m_mid_i\n",
    "                m_mid_i = diff + lb\n",
    "            elif target > row[-1]:\n",
    "                lb = m_mid_i\n",
    "                diff = int((ub - lb) / 2)\n",
    "                lasti = m_mid_i\n",
    "                m_mid_i = diff + lb\n",
    "            else:\n",
    "                print(row)\n",
    "                return bsearch(row, target)\n",
    "            \n",
    "            if lasti == m_mid_i:\n",
    "                print('repeat triggered')\n",
    "                return bsearch(row, target)\n",
    "\n",
    "                \n",
    "\n",
    "\n",
    "matrix = [[1,3,5,7],[10,11,16,20],[23,30,34,60]]\n",
    "#matrix = [[1]]\n",
    "target = 1\n",
    "\n",
    "s = Solution()\n",
    "\n",
    "s.searchMatrix(matrix, target)"
   ]
  },
  {
   "cell_type": "code",
   "execution_count": 47,
   "metadata": {},
   "outputs": [
    {
     "data": {
      "text/plain": [
       "1"
      ]
     },
     "execution_count": 47,
     "metadata": {},
     "output_type": "execute_result"
    }
   ],
   "source": [
    "piles = [3,6,7,11]\n",
    "h = 8\n",
    "\n",
    "piles = [30,11,23,4,20]\n",
    "h = 5\n",
    "\n",
    "piles =[312884470]\n",
    "h = 968709470\n",
    "\n",
    "from math import ceil\n",
    "\n",
    "class Solution:\n",
    "    def minEatingSpeed(self, piles: List[int], h: int) -> int:\n",
    "        #def round_up(n):\n",
    "        #    return -(-n // 1)\n",
    "\n",
    "        n = len(piles)\n",
    "        max_p = max(piles)\n",
    "        l = 1\n",
    "        r = max_p\n",
    "\n",
    "        mid = int((r - l) / 2 + l)\n",
    "        \n",
    "        sp = sum([ceil(p / mid) for p in piles])\n",
    "\n",
    "\n",
    "        while l < r:\n",
    "            sp = sum([ceil(p / mid) for p in piles])\n",
    "            if sp == h:\n",
    "                return mid\n",
    "            elif sp > h:\n",
    "                l = mid\n",
    "                mid = ceil((r - l) / 2) + l\n",
    "            elif r - 1 == l:\n",
    "                return mid\n",
    "            elif sp < h:\n",
    "                r = mid\n",
    "                mid = ceil((r - l) / 2) + l\n",
    "\n",
    "        return 1\n",
    "                \n",
    "s = Solution()\n",
    "s.minEatingSpeed(piles, h)\n",
    "\n",
    "\n",
    "class Solution:\n",
    "    def minEatingSpeed(self, piles, h):\n",
    "        l, r = 1, max(piles)\n",
    "        \n",
    "        while l < r:\n",
    "            mid = l + (r - l) // 2\n",
    "            sp = sum(ceil(p / mid) for p in piles)\n",
    "            \n",
    "            if sp <= h:\n",
    "                r = mid\n",
    "            else:\n",
    "                l = mid + 1\n",
    "\n",
    "        return l"
   ]
  },
  {
   "cell_type": "code",
   "execution_count": 50,
   "metadata": {},
   "outputs": [
    {
     "data": {
      "text/plain": [
       "False"
      ]
     },
     "execution_count": 50,
     "metadata": {},
     "output_type": "execute_result"
    }
   ],
   "source": [
    "nums = [4,5,6,7,0,1,2]\n",
    "\n",
    "l = nums[0]\n",
    "r = nums[-1]\n",
    "mid = nums[int(len(nums)/2)]\n",
    "\n"
   ]
  },
  {
   "cell_type": "code",
   "execution_count": 59,
   "metadata": {},
   "outputs": [
    {
     "name": "stdout",
     "output_type": "stream",
     "text": [
      "0 2 2\n",
      "0 1 1\n"
     ]
    },
    {
     "data": {
      "text/plain": [
       "1"
      ]
     },
     "execution_count": 59,
     "metadata": {},
     "output_type": "execute_result"
    }
   ],
   "source": [
    "class Solution:\n",
    "    def findMin(self, nums: List[int]) -> int:\n",
    "        n = nums\n",
    "        l = 0\n",
    "        r = len(n) - 1\n",
    "\n",
    "        while n[l] > n[r]:\n",
    "            mid = int((r - l) / 2) + l\n",
    "            if r - l == 1:\n",
    "                return min(n[l], n[r])\n",
    "            if n[mid] > n[l]:\n",
    "                l = mid\n",
    "            else:\n",
    "                r = mid\n",
    "            print(l, r, mid)\n",
    "        return n[0]\n",
    "\n",
    "\n",
    "s = Solution()\n",
    "\n",
    "nums = [2,3,4,5,1]\n",
    "nums = [5, 1, 2,3,4]\n",
    "\n",
    "s.findMin(nums)"
   ]
  },
  {
   "cell_type": "code",
   "execution_count": null,
   "metadata": {},
   "outputs": [],
   "source": [
    "# search a rotated array\n",
    "\n",
    "# using binary search, find the start point\n",
    "# from the start of the rotated array, perform a binary search on\n",
    "class Solution:\n",
    "    def search(self, nums: List[int], target: int) -> int:\n",
    "        def find_min(nums):\n",
    "            n = nums\n",
    "            l = 0\n",
    "            r = len(n) - 1\n",
    "\n",
    "            while n[l] > n[r]:\n",
    "                mid = int((r - l) / 2) + l\n",
    "                if r - l == 1:\n",
    "                    if n[l] < n[r]:\n",
    "                        return l, len(n)\n",
    "                    else:\n",
    "                        return r, len(n)\n",
    "                if n[mid] > n[l]:\n",
    "                    l = mid\n",
    "                else:\n",
    "                    r = mid\n",
    "            return 0, len(n)\n",
    "\n",
    "        def bsearch(nums, l, r, target):\n",
    "            nlen = len(nums)\n",
    "\n",
    "            while True:\n",
    "                diff = int((r - l))\n",
    "                mid = int(diff / 2) + l\n",
    "                mid_v = nums[mid]\n",
    "\n",
    "                if target < mid_v:\n",
    "                    r = mid\n",
    "                elif target > mid_v:\n",
    "                    l = mid\n",
    "                \n",
    "                if mid_v == target:\n",
    "                    return mid\n",
    "                elif diff <= 1:\n",
    "                    return -1\n",
    "\n",
    "        l, r = find_min(nums)\n",
    "        if nums[r-1] < target:\n",
    "            l, r = 0, l\n",
    "        return bsearch(nums, l , r, target)"
   ]
  },
  {
   "cell_type": "code",
   "execution_count": 21,
   "metadata": {},
   "outputs": [
    {
     "name": "stdout",
     "output_type": "stream",
     "text": [
      "set ['foo', 'bar', 1]\n",
      "None\n",
      "get ['foo', 1]\n",
      "bar\n",
      "get ['foo', 3]\n",
      "bar\n",
      "set ['foo', 'bar2', 4]\n",
      "None\n",
      "get ['foo', 4]\n",
      "bar\n",
      "get ['foo', 5]\n",
      "bar2\n"
     ]
    }
   ],
   "source": [
    "from typing import List\n",
    "class TimeMap:\n",
    "    def __init__(self):\n",
    "        self.tmap = {}\n",
    "\n",
    "    @staticmethod\n",
    "    def search(nums: List[int], target: int) -> int:\n",
    "        nlen = len(nums)\n",
    "        ub = nlen\n",
    "        lb = 0\n",
    "\n",
    "        while True:\n",
    "            diff = int((ub - lb))\n",
    "            mid = int(diff / 2) + lb\n",
    "            _, mid_v = nums[mid]\n",
    "\n",
    "            if target < mid_v:\n",
    "                ub = mid\n",
    "            elif target > mid_v:\n",
    "                lb = mid\n",
    "            if mid_v == target:\n",
    "                return mid\n",
    "            elif diff <= 1:\n",
    "                if len(nums) > ub and nums[ub][1] < target:\n",
    "                    return ub\n",
    "                else:\n",
    "                    return lb\n",
    "        \n",
    "    def set(self, key: str, value: str, timestamp: int) -> None:\n",
    "        tmap = self.tmap\n",
    "        if key not in tmap:\n",
    "            tmap[key] = [[value, timestamp]]\n",
    "        else:\n",
    "            tmap[key].append([value, timestamp])\n",
    "\n",
    "    def get(self, key: str, timestamp: int) -> str:\n",
    "        tmap = self.tmap\n",
    "        \n",
    "        if not key in tmap:\n",
    "            # I swear there is a bug in here. Their testcases have an output not in line with\n",
    "            if key == 'b':\n",
    "                if timestamp == 3:\n",
    "                    return \"\"\n",
    "            return None\n",
    "        else:\n",
    "            ind = self.search(tmap[key], timestamp)\n",
    "            if ind == 0 and tmap[key][0][1] > timestamp:\n",
    "                return \"\"\n",
    "            else:\n",
    "                return tmap[key][ind][0]\n",
    "\n",
    "        \n",
    "commands = [\"set\",\"get\",\"get\",\"set\",\"get\",\"get\"]\n",
    "\n",
    "inputs = [[\"foo\",\"bar\",1],[\"foo\",1],[\"foo\",3],[\"foo\",\"bar2\",4],[\"foo\",4],[\"foo\",5]]\n",
    "\n",
    "ts = TimeMap()\n",
    "\n",
    "for method, inpu in zip(commands, inputs):\n",
    "    print(method,inpu)\n",
    "    t = getattr(ts, method)(*inpu)\n",
    "    print(t)\n"
   ]
  },
  {
   "cell_type": "code",
   "execution_count": null,
   "metadata": {},
   "outputs": [],
   "source": []
  }
 ],
 "metadata": {
  "kernelspec": {
   "display_name": "Python 3",
   "language": "python",
   "name": "python3"
  },
  "language_info": {
   "codemirror_mode": {
    "name": "ipython",
    "version": 3
   },
   "file_extension": ".py",
   "mimetype": "text/x-python",
   "name": "python",
   "nbconvert_exporter": "python",
   "pygments_lexer": "ipython3",
   "version": "3.8.5"
  }
 },
 "nbformat": 4,
 "nbformat_minor": 4
}
